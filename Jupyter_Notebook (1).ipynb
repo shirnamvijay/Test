{
 "cells": [
  {
   "cell_type": "markdown",
   "metadata": {},
   "source": [
    "<center>\n",
    "    <img src=\"https://cf-courses-data.s3.us.cloud-object-storage.appdomain.cloud/IBMDeveloperSkillsNetwork-DS0105EN-SkillsNetwork/labs/Module2/images/SN_web_lightmode.png\" width=\"300\" alt=\"cognitiveclass.ai logo\">\n",
    "</center>\n"
   ]
  },
  {
   "cell_type": "markdown",
   "metadata": {},
   "source": [
    "#### Add your code below following the instructions given in the course\n"
   ]
  },
  {
   "cell_type": "markdown",
   "metadata": {},
   "source": [
    "# Data Science Tools and Ecosystem"
   ]
  },
  {
   "cell_type": "markdown",
   "metadata": {},
   "source": [
    "## Ex-2 Introduction\n",
    "    \"InThis NOTE BOOK We Will Be Doing Some Giving Information Of Datascience Tools And Techniques\""
   ]
  },
  {
   "cell_type": "markdown",
   "metadata": {},
   "source": [
    "### Ex-3 Common Data Science Languages\n",
    "\n",
    "- **Python**\n",
    "- **R**\n",
    "- **SQL**\n",
    "- **Julia**\n",
    "- **Scala**\n",
    "- **Java**\n",
    "- **MATLAB**\n"
   ]
  },
  {
   "cell_type": "markdown",
   "metadata": {},
   "source": [
    " ### Ex-4 DataScience Libraries\n",
    "\n",
    "- **NumPy**\n",
    "- **pandas**\n",
    "- **Matplotlib**\n",
    "- **Seaborn**\n",
    "- **scikit-learn**\n",
    "- **TensorFlow**\n",
    "- **Keras**\n",
    "- **PyTorch**\n",
    "- **Statsmodels**\n",
    "- **XGBoost**\n"
   ]
  },
  {
   "cell_type": "markdown",
   "metadata": {},
   "source": [
    "### Ex-5 Data Science Tools\n",
    "\n",
    "| Tool            |\n",
    "|-----------------|\n",
    "| Jupyter Notebook|\n",
    "| RStudio         |\n",
    "| VS Code         |\n",
    "| Apache Spark    |\n",
    "| Tableau         |\n",
    "| Power BI        |\n",
    "| Google Colab    |\n",
    "| KNIME           |\n",
    "| RapidMiner      |\n",
    "| Excel           |\n"
   ]
  },
  {
   "cell_type": "markdown",
   "metadata": {},
   "source": [
    "### Ex-6 Introduction to Arithmetic Expressions\n",
    "\n",
    "Arithmetic expressions are combinations of numbers and operators that perform mathematical calculations. These operators include addition (`+`), subtraction (`-`), multiplication (`*`), division (`/`), and parentheses for grouping.\n",
    "\n",
    "Below are some examples of basic arithmetic expressions:\n",
    "\n",
    "- `5 + 3`  (Addition)\n",
    "- `10 - 4` (Subtraction)\n",
    "- `7 * 6`  (Multiplication)\n",
    "- `20 / 5` (Division)\n",
    "- `(2 + 3) * 4` (Using parentheses to change order of operations)\n",
    "\n",
    "Understanding arithmetic expressions is fundamental for programming, data analysis, and scientific computing.\n"
   ]
  },
  {
   "cell_type": "markdown",
   "metadata": {},
   "source": [
    "# Multiply and add numbers example"
   ]
  },
  {
   "cell_type": "code",
   "execution_count": 7,
   "metadata": {},
   "outputs": [
    {
     "name": "stdout",
     "output_type": "stream",
     "text": [
      "Result of (a * b) + c is: 38\n"
     ]
    }
   ],
   "source": [
    "a = 7\n",
    "b = 5\n",
    "c = 3\n",
    "result = (a * b) + c\n",
    "print(\"Result of (a * b) + c is:\", result)"
   ]
  },
  {
   "cell_type": "markdown",
   "metadata": {},
   "source": [
    "# Convert minutes to hours"
   ]
  },
  {
   "cell_type": "code",
   "execution_count": 8,
   "metadata": {},
   "outputs": [
    {
     "name": "stdout",
     "output_type": "stream",
     "text": [
      "150 minutes is equal to 2.5 hours.\n"
     ]
    }
   ],
   "source": [
    "minutes = 150\n",
    "hours = minutes / 60\n",
    "print(f\"{minutes} minutes is equal to {hours} hours.\")"
   ]
  },
  {
   "cell_type": "markdown",
   "metadata": {},
   "source": [
    "### Objectives\n",
    "\n",
    "- Understand the core concepts of data science.\n",
    "- Learn to use key data science languages and tools.\n",
    "- Explore common data science libraries and their applications.\n",
    "- Practice basic arithmetic expressions in programming.\n",
    "- Develop simple code to perform mathematical operations and unit conversions.\n"
   ]
  },
  {
   "cell_type": "markdown",
   "metadata": {},
   "source": [
    "### Author\n",
    "\n",
    "**Vijay Shirnam**\n"
   ]
  },
  {
   "cell_type": "code",
   "execution_count": null,
   "metadata": {},
   "outputs": [],
   "source": []
  }
 ],
 "metadata": {
  "kernelspec": {
   "display_name": "Python 3 (ipykernel)",
   "language": "python",
   "name": "python3"
  },
  "language_info": {
   "codemirror_mode": {
    "name": "ipython",
    "version": 3
   },
   "file_extension": ".py",
   "mimetype": "text/x-python",
   "name": "python",
   "nbconvert_exporter": "python",
   "pygments_lexer": "ipython3",
   "version": "3.12.8"
  }
 },
 "nbformat": 4,
 "nbformat_minor": 4
}
